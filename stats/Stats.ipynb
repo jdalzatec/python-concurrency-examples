{
 "cells": [
  {
   "cell_type": "code",
   "execution_count": 2,
   "metadata": {},
   "outputs": [],
   "source": [
    "import pandas\n",
    "from matplotlib import pyplot\n",
    "import "
   ]
  },
  {
   "cell_type": "markdown",
   "metadata": {},
   "source": [
    "# Synchronous"
   ]
  },
  {
   "cell_type": "code",
   "execution_count": 3,
   "metadata": {},
   "outputs": [],
   "source": [
    "synchronous_times = pandas.read_csv(\"synchronous_version.stats\")"
   ]
  },
  {
   "cell_type": "code",
   "execution_count": 4,
   "metadata": {},
   "outputs": [
    {
     "data": {
      "text/html": [
       "<div>\n",
       "<style scoped>\n",
       "    .dataframe tbody tr th:only-of-type {\n",
       "        vertical-align: middle;\n",
       "    }\n",
       "\n",
       "    .dataframe tbody tr th {\n",
       "        vertical-align: top;\n",
       "    }\n",
       "\n",
       "    .dataframe thead th {\n",
       "        text-align: right;\n",
       "    }\n",
       "</style>\n",
       "<table border=\"1\" class=\"dataframe\">\n",
       "  <thead>\n",
       "    <tr style=\"text-align: right;\">\n",
       "      <th></th>\n",
       "      <th>synchronous</th>\n",
       "    </tr>\n",
       "  </thead>\n",
       "  <tbody>\n",
       "    <tr>\n",
       "      <th>0</th>\n",
       "      <td>10.52</td>\n",
       "    </tr>\n",
       "    <tr>\n",
       "      <th>1</th>\n",
       "      <td>10.49</td>\n",
       "    </tr>\n",
       "    <tr>\n",
       "      <th>2</th>\n",
       "      <td>10.27</td>\n",
       "    </tr>\n",
       "    <tr>\n",
       "      <th>3</th>\n",
       "      <td>12.41</td>\n",
       "    </tr>\n",
       "    <tr>\n",
       "      <th>4</th>\n",
       "      <td>9.70</td>\n",
       "    </tr>\n",
       "  </tbody>\n",
       "</table>\n",
       "</div>"
      ],
      "text/plain": [
       "   synchronous\n",
       "0        10.52\n",
       "1        10.49\n",
       "2        10.27\n",
       "3        12.41\n",
       "4         9.70"
      ]
     },
     "execution_count": 4,
     "metadata": {},
     "output_type": "execute_result"
    }
   ],
   "source": [
    "synchronous_times.head()"
   ]
  },
  {
   "cell_type": "code",
   "execution_count": 13,
   "metadata": {},
   "outputs": [
    {
     "data": {
      "image/png": "[encoded data removed]",
      "text/plain": [
       "<Figure size 432x288 with 1 Axes>"
      ]
     },
     "metadata": {
      "needs_background": "light"
     },
     "output_type": "display_data"
    }
   ],
   "source": [
    "synchronous_times[\"synchronous\"].plot.hist(bins=5)\n",
    "pyplot.xlabel(\"Time [seconds]\")\n",
    "pyplot.grid()\n",
    "pyplot.show()"
   ]
  },
  {
   "cell_type": "code",
   "execution_count": 10,
   "metadata": {},
   "outputs": [
    {
     "data": {
      "text/html": [
       "<div>\n",
       "<style scoped>\n",
       "    .dataframe tbody tr th:only-of-type {\n",
       "        vertical-align: middle;\n",
       "    }\n",
       "\n",
       "    .dataframe tbody tr th {\n",
       "        vertical-align: top;\n",
       "    }\n",
       "\n",
       "    .dataframe thead th {\n",
       "        text-align: right;\n",
       "    }\n",
       "</style>\n",
       "<table border=\"1\" class=\"dataframe\">\n",
       "  <thead>\n",
       "    <tr style=\"text-align: right;\">\n",
       "      <th></th>\n",
       "      <th>synchronous</th>\n",
       "    </tr>\n",
       "  </thead>\n",
       "  <tbody>\n",
       "    <tr>\n",
       "      <th>count</th>\n",
       "      <td>50.000000</td>\n",
       "    </tr>\n",
       "    <tr>\n",
       "      <th>mean</th>\n",
       "      <td>10.100600</td>\n",
       "    </tr>\n",
       "    <tr>\n",
       "      <th>std</th>\n",
       "      <td>0.725952</td>\n",
       "    </tr>\n",
       "    <tr>\n",
       "      <th>min</th>\n",
       "      <td>9.320000</td>\n",
       "    </tr>\n",
       "    <tr>\n",
       "      <th>25%</th>\n",
       "      <td>9.592500</td>\n",
       "    </tr>\n",
       "    <tr>\n",
       "      <th>50%</th>\n",
       "      <td>9.865000</td>\n",
       "    </tr>\n",
       "    <tr>\n",
       "      <th>75%</th>\n",
       "      <td>10.305000</td>\n",
       "    </tr>\n",
       "    <tr>\n",
       "      <th>max</th>\n",
       "      <td>12.430000</td>\n",
       "    </tr>\n",
       "  </tbody>\n",
       "</table>\n",
       "</div>"
      ],
      "text/plain": [
       "       synchronous\n",
       "count    50.000000\n",
       "mean     10.100600\n",
       "std       0.725952\n",
       "min       9.320000\n",
       "25%       9.592500\n",
       "50%       9.865000\n",
       "75%      10.305000\n",
       "max      12.430000"
      ]
     },
     "execution_count": 10,
     "metadata": {},
     "output_type": "execute_result"
    }
   ],
   "source": [
    "synchronous_times.describe()"
   ]
  },
  {
   "cell_type": "code",
   "execution_count": 14,
   "metadata": {},
   "outputs": [
    {
     "data": {
      "image/png": "[encoded data removed]",
      "text/plain": [
       "<Figure size 432x288 with 1 Axes>"
      ]
     },
     "metadata": {
      "needs_background": "light"
     },
     "output_type": "display_data"
    }
   ],
   "source": [
    "synchronous_times.plot.box()\n",
    "pyplot.grid()\n",
    "pyplot.ylabel(\"Time [seconds]\")\n",
    "pyplot.show()"
   ]
  },
  {
   "cell_type": "markdown",
   "metadata": {},
   "source": [
    "# Threading versions"
   ]
  },
  {
   "cell_type": "code",
   "execution_count": 22,
   "metadata": {},
   "outputs": [],
   "source": [
    "threading_times = pandas.read_csv(\"threading_version.stats\")"
   ]
  },
  {
   "cell_type": "code",
   "execution_count": 23,
   "metadata": {},
   "outputs": [
    {
     "data": {
      "text/html": [
       "<div>\n",
       "<style scoped>\n",
       "    .dataframe tbody tr th:only-of-type {\n",
       "        vertical-align: middle;\n",
       "    }\n",
       "\n",
       "    .dataframe tbody tr th {\n",
       "        vertical-align: top;\n",
       "    }\n",
       "\n",
       "    .dataframe thead th {\n",
       "        text-align: right;\n",
       "    }\n",
       "</style>\n",
       "<table border=\"1\" class=\"dataframe\">\n",
       "  <thead>\n",
       "    <tr style=\"text-align: right;\">\n",
       "      <th></th>\n",
       "      <th>1</th>\n",
       "      <th>2</th>\n",
       "      <th>3</th>\n",
       "      <th>4</th>\n",
       "      <th>5</th>\n",
       "      <th>6</th>\n",
       "      <th>7</th>\n",
       "      <th>8</th>\n",
       "      <th>9</th>\n",
       "      <th>10</th>\n",
       "      <th>11</th>\n",
       "      <th>12</th>\n",
       "      <th>13</th>\n",
       "      <th>14</th>\n",
       "      <th>15</th>\n",
       "      <th>16</th>\n",
       "      <th>17</th>\n",
       "      <th>18</th>\n",
       "      <th>19</th>\n",
       "      <th>20</th>\n",
       "    </tr>\n",
       "  </thead>\n",
       "  <tbody>\n",
       "    <tr>\n",
       "      <th>0</th>\n",
       "      <td>9.79</td>\n",
       "      <td>5.04</td>\n",
       "      <td>3.64</td>\n",
       "      <td>4.12</td>\n",
       "      <td>2.29</td>\n",
       "      <td>1.94</td>\n",
       "      <td>1.86</td>\n",
       "      <td>1.60</td>\n",
       "      <td>1.75</td>\n",
       "      <td>1.47</td>\n",
       "      <td>1.36</td>\n",
       "      <td>1.32</td>\n",
       "      <td>1.66</td>\n",
       "      <td>1.18</td>\n",
       "      <td>1.18</td>\n",
       "      <td>1.12</td>\n",
       "      <td>5.56</td>\n",
       "      <td>1.65</td>\n",
       "      <td>0.99</td>\n",
       "      <td>1.03</td>\n",
       "    </tr>\n",
       "    <tr>\n",
       "      <th>1</th>\n",
       "      <td>10.59</td>\n",
       "      <td>5.03</td>\n",
       "      <td>3.64</td>\n",
       "      <td>2.75</td>\n",
       "      <td>2.25</td>\n",
       "      <td>2.21</td>\n",
       "      <td>1.78</td>\n",
       "      <td>1.66</td>\n",
       "      <td>1.50</td>\n",
       "      <td>1.40</td>\n",
       "      <td>1.47</td>\n",
       "      <td>1.29</td>\n",
       "      <td>1.19</td>\n",
       "      <td>1.82</td>\n",
       "      <td>5.36</td>\n",
       "      <td>1.13</td>\n",
       "      <td>1.13</td>\n",
       "      <td>1.05</td>\n",
       "      <td>1.01</td>\n",
       "      <td>0.99</td>\n",
       "    </tr>\n",
       "    <tr>\n",
       "      <th>2</th>\n",
       "      <td>10.67</td>\n",
       "      <td>5.37</td>\n",
       "      <td>3.83</td>\n",
       "      <td>2.84</td>\n",
       "      <td>5.38</td>\n",
       "      <td>2.02</td>\n",
       "      <td>1.92</td>\n",
       "      <td>1.56</td>\n",
       "      <td>10.53</td>\n",
       "      <td>1.40</td>\n",
       "      <td>2.01</td>\n",
       "      <td>1.64</td>\n",
       "      <td>1.91</td>\n",
       "      <td>1.25</td>\n",
       "      <td>1.24</td>\n",
       "      <td>5.87</td>\n",
       "      <td>1.25</td>\n",
       "      <td>1.10</td>\n",
       "      <td>1.09</td>\n",
       "      <td>1.00</td>\n",
       "    </tr>\n",
       "    <tr>\n",
       "      <th>3</th>\n",
       "      <td>10.06</td>\n",
       "      <td>5.51</td>\n",
       "      <td>3.65</td>\n",
       "      <td>2.80</td>\n",
       "      <td>2.36</td>\n",
       "      <td>4.13</td>\n",
       "      <td>1.85</td>\n",
       "      <td>1.64</td>\n",
       "      <td>1.49</td>\n",
       "      <td>1.42</td>\n",
       "      <td>1.38</td>\n",
       "      <td>1.26</td>\n",
       "      <td>1.18</td>\n",
       "      <td>1.28</td>\n",
       "      <td>1.31</td>\n",
       "      <td>1.28</td>\n",
       "      <td>1.13</td>\n",
       "      <td>5.66</td>\n",
       "      <td>1.05</td>\n",
       "      <td>1.60</td>\n",
       "    </tr>\n",
       "    <tr>\n",
       "      <th>4</th>\n",
       "      <td>10.04</td>\n",
       "      <td>5.35</td>\n",
       "      <td>3.53</td>\n",
       "      <td>2.70</td>\n",
       "      <td>2.35</td>\n",
       "      <td>2.09</td>\n",
       "      <td>1.79</td>\n",
       "      <td>1.64</td>\n",
       "      <td>1.62</td>\n",
       "      <td>1.38</td>\n",
       "      <td>1.30</td>\n",
       "      <td>1.30</td>\n",
       "      <td>1.18</td>\n",
       "      <td>1.16</td>\n",
       "      <td>1.15</td>\n",
       "      <td>1.15</td>\n",
       "      <td>5.83</td>\n",
       "      <td>1.16</td>\n",
       "      <td>1.02</td>\n",
       "      <td>2.02</td>\n",
       "    </tr>\n",
       "  </tbody>\n",
       "</table>\n",
       "</div>"
      ],
      "text/plain": [
       "       1     2     3     4     5     6     7     8      9    10    11    12  \\\n",
       "0   9.79  5.04  3.64  4.12  2.29  1.94  1.86  1.60   1.75  1.47  1.36  1.32   \n",
       "1  10.59  5.03  3.64  2.75  2.25  2.21  1.78  1.66   1.50  1.40  1.47  1.29   \n",
       "2  10.67  5.37  3.83  2.84  5.38  2.02  1.92  1.56  10.53  1.40  2.01  1.64   \n",
       "3  10.06  5.51  3.65  2.80  2.36  4.13  1.85  1.64   1.49  1.42  1.38  1.26   \n",
       "4  10.04  5.35  3.53  2.70  2.35  2.09  1.79  1.64   1.62  1.38  1.30  1.30   \n",
       "\n",
       "     13    14    15    16    17    18    19    20  \n",
       "0  1.66  1.18  1.18  1.12  5.56  1.65  0.99  1.03  \n",
       "1  1.19  1.82  5.36  1.13  1.13  1.05  1.01  0.99  \n",
       "2  1.91  1.25  1.24  5.87  1.25  1.10  1.09  1.00  \n",
       "3  1.18  1.28  1.31  1.28  1.13  5.66  1.05  1.60  \n",
       "4  1.18  1.16  1.15  1.15  5.83  1.16  1.02  2.02  "
      ]
     },
     "execution_count": 23,
     "metadata": {},
     "output_type": "execute_result"
    }
   ],
   "source": [
    "threading_times.head()"
   ]
  },
  {
   "cell_type": "code",
   "execution_count": 24,
   "metadata": {},
   "outputs": [
    {
     "data": {
      "text/html": [
       "<div>\n",
       "<style scoped>\n",
       "    .dataframe tbody tr th:only-of-type {\n",
       "        vertical-align: middle;\n",
       "    }\n",
       "\n",
       "    .dataframe tbody tr th {\n",
       "        vertical-align: top;\n",
       "    }\n",
       "\n",
       "    .dataframe thead th {\n",
       "        text-align: right;\n",
       "    }\n",
       "</style>\n",
       "<table border=\"1\" class=\"dataframe\">\n",
       "  <thead>\n",
       "    <tr style=\"text-align: right;\">\n",
       "      <th></th>\n",
       "      <th>1</th>\n",
       "      <th>2</th>\n",
       "      <th>3</th>\n",
       "      <th>4</th>\n",
       "      <th>5</th>\n",
       "      <th>6</th>\n",
       "      <th>7</th>\n",
       "      <th>8</th>\n",
       "      <th>9</th>\n",
       "      <th>10</th>\n",
       "      <th>11</th>\n",
       "      <th>12</th>\n",
       "      <th>13</th>\n",
       "      <th>14</th>\n",
       "      <th>15</th>\n",
       "      <th>16</th>\n",
       "      <th>17</th>\n",
       "      <th>18</th>\n",
       "      <th>19</th>\n",
       "      <th>20</th>\n",
       "    </tr>\n",
       "  </thead>\n",
       "  <tbody>\n",
       "    <tr>\n",
       "      <th>count</th>\n",
       "      <td>50.000000</td>\n",
       "      <td>50.000000</td>\n",
       "      <td>50.000000</td>\n",
       "      <td>50.000000</td>\n",
       "      <td>50.000000</td>\n",
       "      <td>50.000000</td>\n",
       "      <td>50.000000</td>\n",
       "      <td>50.000000</td>\n",
       "      <td>50.000000</td>\n",
       "      <td>50.000000</td>\n",
       "      <td>50.000000</td>\n",
       "      <td>50.000000</td>\n",
       "      <td>50.000000</td>\n",
       "      <td>50.000000</td>\n",
       "      <td>50.000000</td>\n",
       "      <td>50.000000</td>\n",
       "      <td>50.000000</td>\n",
       "      <td>50.000000</td>\n",
       "      <td>50.000000</td>\n",
       "      <td>50.000000</td>\n",
       "    </tr>\n",
       "    <tr>\n",
       "      <th>mean</th>\n",
       "      <td>10.076800</td>\n",
       "      <td>5.210800</td>\n",
       "      <td>3.663200</td>\n",
       "      <td>2.935600</td>\n",
       "      <td>2.517000</td>\n",
       "      <td>2.152800</td>\n",
       "      <td>2.443000</td>\n",
       "      <td>1.666200</td>\n",
       "      <td>1.797400</td>\n",
       "      <td>1.546200</td>\n",
       "      <td>1.805600</td>\n",
       "      <td>1.465600</td>\n",
       "      <td>1.466400</td>\n",
       "      <td>1.680600</td>\n",
       "      <td>2.250200</td>\n",
       "      <td>1.912400</td>\n",
       "      <td>2.035000</td>\n",
       "      <td>1.202600</td>\n",
       "      <td>1.235200</td>\n",
       "      <td>1.561400</td>\n",
       "    </tr>\n",
       "    <tr>\n",
       "      <th>std</th>\n",
       "      <td>0.719142</td>\n",
       "      <td>0.261431</td>\n",
       "      <td>0.292396</td>\n",
       "      <td>0.375022</td>\n",
       "      <td>0.584173</td>\n",
       "      <td>0.373926</td>\n",
       "      <td>1.033874</td>\n",
       "      <td>0.087105</td>\n",
       "      <td>1.383387</td>\n",
       "      <td>0.395861</td>\n",
       "      <td>1.955028</td>\n",
       "      <td>0.524654</td>\n",
       "      <td>0.734541</td>\n",
       "      <td>1.098937</td>\n",
       "      <td>1.768752</td>\n",
       "      <td>1.911143</td>\n",
       "      <td>1.582235</td>\n",
       "      <td>1.285982</td>\n",
       "      <td>0.527552</td>\n",
       "      <td>1.239758</td>\n",
       "    </tr>\n",
       "    <tr>\n",
       "      <th>min</th>\n",
       "      <td>9.360000</td>\n",
       "      <td>4.890000</td>\n",
       "      <td>3.440000</td>\n",
       "      <td>2.700000</td>\n",
       "      <td>2.220000</td>\n",
       "      <td>1.940000</td>\n",
       "      <td>1.710000</td>\n",
       "      <td>1.560000</td>\n",
       "      <td>1.440000</td>\n",
       "      <td>1.330000</td>\n",
       "      <td>1.290000</td>\n",
       "      <td>1.220000</td>\n",
       "      <td>1.180000</td>\n",
       "      <td>1.160000</td>\n",
       "      <td>1.120000</td>\n",
       "      <td>1.070000</td>\n",
       "      <td>1.060000</td>\n",
       "      <td>0.490000</td>\n",
       "      <td>0.980000</td>\n",
       "      <td>0.990000</td>\n",
       "    </tr>\n",
       "    <tr>\n",
       "      <th>25%</th>\n",
       "      <td>9.667500</td>\n",
       "      <td>5.070000</td>\n",
       "      <td>3.532500</td>\n",
       "      <td>2.760000</td>\n",
       "      <td>2.310000</td>\n",
       "      <td>1.992500</td>\n",
       "      <td>1.807500</td>\n",
       "      <td>1.602500</td>\n",
       "      <td>1.480000</td>\n",
       "      <td>1.370000</td>\n",
       "      <td>1.330000</td>\n",
       "      <td>1.272500</td>\n",
       "      <td>1.222500</td>\n",
       "      <td>1.200000</td>\n",
       "      <td>1.172500</td>\n",
       "      <td>1.132500</td>\n",
       "      <td>1.112500</td>\n",
       "      <td>0.570000</td>\n",
       "      <td>1.020000</td>\n",
       "      <td>1.060000</td>\n",
       "    </tr>\n",
       "    <tr>\n",
       "      <th>50%</th>\n",
       "      <td>9.885000</td>\n",
       "      <td>5.165000</td>\n",
       "      <td>3.590000</td>\n",
       "      <td>2.820000</td>\n",
       "      <td>2.350000</td>\n",
       "      <td>2.045000</td>\n",
       "      <td>1.955000</td>\n",
       "      <td>1.635000</td>\n",
       "      <td>1.500000</td>\n",
       "      <td>1.405000</td>\n",
       "      <td>1.360000</td>\n",
       "      <td>1.300000</td>\n",
       "      <td>1.265000</td>\n",
       "      <td>1.250000</td>\n",
       "      <td>1.250000</td>\n",
       "      <td>1.220000</td>\n",
       "      <td>1.220000</td>\n",
       "      <td>0.805000</td>\n",
       "      <td>1.055000</td>\n",
       "      <td>1.105000</td>\n",
       "    </tr>\n",
       "    <tr>\n",
       "      <th>75%</th>\n",
       "      <td>10.210000</td>\n",
       "      <td>5.250000</td>\n",
       "      <td>3.660000</td>\n",
       "      <td>2.887500</td>\n",
       "      <td>2.447500</td>\n",
       "      <td>2.155000</td>\n",
       "      <td>2.840000</td>\n",
       "      <td>1.727500</td>\n",
       "      <td>1.520000</td>\n",
       "      <td>1.467500</td>\n",
       "      <td>1.437500</td>\n",
       "      <td>1.367500</td>\n",
       "      <td>1.340000</td>\n",
       "      <td>1.350000</td>\n",
       "      <td>2.407500</td>\n",
       "      <td>1.532500</td>\n",
       "      <td>2.057500</td>\n",
       "      <td>1.117500</td>\n",
       "      <td>1.107500</td>\n",
       "      <td>1.290000</td>\n",
       "    </tr>\n",
       "    <tr>\n",
       "      <th>max</th>\n",
       "      <td>13.280000</td>\n",
       "      <td>6.530000</td>\n",
       "      <td>5.270000</td>\n",
       "      <td>4.470000</td>\n",
       "      <td>5.380000</td>\n",
       "      <td>4.130000</td>\n",
       "      <td>7.480000</td>\n",
       "      <td>2.000000</td>\n",
       "      <td>10.530000</td>\n",
       "      <td>3.260000</td>\n",
       "      <td>14.230000</td>\n",
       "      <td>4.210000</td>\n",
       "      <td>5.940000</td>\n",
       "      <td>5.960000</td>\n",
       "      <td>6.000000</td>\n",
       "      <td>12.490000</td>\n",
       "      <td>5.830000</td>\n",
       "      <td>5.660000</td>\n",
       "      <td>3.370000</td>\n",
       "      <td>6.970000</td>\n",
       "    </tr>\n",
       "  </tbody>\n",
       "</table>\n",
       "</div>"
      ],
      "text/plain": [
       "               1          2          3          4          5          6  \\\n",
       "count  50.000000  50.000000  50.000000  50.000000  50.000000  50.000000   \n",
       "mean   10.076800   5.210800   3.663200   2.935600   2.517000   2.152800   \n",
       "std     0.719142   0.261431   0.292396   0.375022   0.584173   0.373926   \n",
       "min     9.360000   4.890000   3.440000   2.700000   2.220000   1.940000   \n",
       "25%     9.667500   5.070000   3.532500   2.760000   2.310000   1.992500   \n",
       "50%     9.885000   5.165000   3.590000   2.820000   2.350000   2.045000   \n",
       "75%    10.210000   5.250000   3.660000   2.887500   2.447500   2.155000   \n",
       "max    13.280000   6.530000   5.270000   4.470000   5.380000   4.130000   \n",
       "\n",
       "               7          8          9         10         11         12  \\\n",
       "count  50.000000  50.000000  50.000000  50.000000  50.000000  50.000000   \n",
       "mean    2.443000   1.666200   1.797400   1.546200   1.805600   1.465600   \n",
       "std     1.033874   0.087105   1.383387   0.395861   1.955028   0.524654   \n",
       "min     1.710000   1.560000   1.440000   1.330000   1.290000   1.220000   \n",
       "25%     1.807500   1.602500   1.480000   1.370000   1.330000   1.272500   \n",
       "50%     1.955000   1.635000   1.500000   1.405000   1.360000   1.300000   \n",
       "75%     2.840000   1.727500   1.520000   1.467500   1.437500   1.367500   \n",
       "max     7.480000   2.000000  10.530000   3.260000  14.230000   4.210000   \n",
       "\n",
       "              13         14         15         16         17         18  \\\n",
       "count  50.000000  50.000000  50.000000  50.000000  50.000000  50.000000   \n",
       "mean    1.466400   1.680600   2.250200   1.912400   2.035000   1.202600   \n",
       "std     0.734541   1.098937   1.768752   1.911143   1.582235   1.285982   \n",
       "min     1.180000   1.160000   1.120000   1.070000   1.060000   0.490000   \n",
       "25%     1.222500   1.200000   1.172500   1.132500   1.112500   0.570000   \n",
       "50%     1.265000   1.250000   1.250000   1.220000   1.220000   0.805000   \n",
       "75%     1.340000   1.350000   2.407500   1.532500   2.057500   1.117500   \n",
       "max     5.940000   5.960000   6.000000  12.490000   5.830000   5.660000   \n",
       "\n",
       "              19         20  \n",
       "count  50.000000  50.000000  \n",
       "mean    1.235200   1.561400  \n",
       "std     0.527552   1.239758  \n",
       "min     0.980000   0.990000  \n",
       "25%     1.020000   1.060000  \n",
       "50%     1.055000   1.105000  \n",
       "75%     1.107500   1.290000  \n",
       "max     3.370000   6.970000  "
      ]
     },
     "execution_count": 24,
     "metadata": {},
     "output_type": "execute_result"
    }
   ],
   "source": [
    "threading_times.describe()"
   ]
  },
  {
   "cell_type": "code",
   "execution_count": 26,
   "metadata": {},
   "outputs": [
    {
     "data": {
      "image/png": "[encoded data removed]",
      "text/plain": [
       "<Figure size 432x288 with 1 Axes>"
      ]
     },
     "metadata": {
      "needs_background": "light"
     },
     "output_type": "display_data"
    }
   ],
   "source": [
    "threading_times.plot.box(rot=90)\n",
    "pyplot.ylabel(\"Time [seconds]\")\n",
    "pyplot.xlabel(\"Threads\")\n",
    "pyplot.grid()\n",
    "pyplot.show()"
   ]
  },
  {
   "cell_type": "code",
   "execution_count": 29,
   "metadata": {},
   "outputs": [
    {
     "data": {
      "text/plain": [
       "0.49"
      ]
     },
     "execution_count": 29,
     "metadata": {},
     "output_type": "execute_result"
    }
   ],
   "source": [
    "threading_times.min().min()"
   ]
  },
  {
   "cell_type": "markdown",
   "metadata": {},
   "source": [
    "# Asyncio"
   ]
  },
  {
   "cell_type": "code",
   "execution_count": 30,
   "metadata": {},
   "outputs": [],
   "source": [
    "async_times = pandas.read_csv(\"asyncio_version.stats\")"
   ]
  },
  {
   "cell_type": "code",
   "execution_count": 31,
   "metadata": {},
   "outputs": [
    {
     "data": {
      "text/html": [
       "<div>\n",
       "<style scoped>\n",
       "    .dataframe tbody tr th:only-of-type {\n",
       "        vertical-align: middle;\n",
       "    }\n",
       "\n",
       "    .dataframe tbody tr th {\n",
       "        vertical-align: top;\n",
       "    }\n",
       "\n",
       "    .dataframe thead th {\n",
       "        text-align: right;\n",
       "    }\n",
       "</style>\n",
       "<table border=\"1\" class=\"dataframe\">\n",
       "  <thead>\n",
       "    <tr style=\"text-align: right;\">\n",
       "      <th></th>\n",
       "      <th>asyncio</th>\n",
       "    </tr>\n",
       "  </thead>\n",
       "  <tbody>\n",
       "    <tr>\n",
       "      <th>0</th>\n",
       "      <td>1.72</td>\n",
       "    </tr>\n",
       "    <tr>\n",
       "      <th>1</th>\n",
       "      <td>2.24</td>\n",
       "    </tr>\n",
       "    <tr>\n",
       "      <th>2</th>\n",
       "      <td>2.20</td>\n",
       "    </tr>\n",
       "    <tr>\n",
       "      <th>3</th>\n",
       "      <td>4.80</td>\n",
       "    </tr>\n",
       "    <tr>\n",
       "      <th>4</th>\n",
       "      <td>0.83</td>\n",
       "    </tr>\n",
       "  </tbody>\n",
       "</table>\n",
       "</div>"
      ],
      "text/plain": [
       "   asyncio\n",
       "0     1.72\n",
       "1     2.24\n",
       "2     2.20\n",
       "3     4.80\n",
       "4     0.83"
      ]
     },
     "execution_count": 31,
     "metadata": {},
     "output_type": "execute_result"
    }
   ],
   "source": [
    "async_times.head()"
   ]
  },
  {
   "cell_type": "code",
   "execution_count": 33,
   "metadata": {},
   "outputs": [
    {
     "data": {
      "image/png": "[encoded data removed]",
      "text/plain": [
       "<Figure size 432x288 with 1 Axes>"
      ]
     },
     "metadata": {
      "needs_background": "light"
     },
     "output_type": "display_data"
    }
   ],
   "source": [
    "async_times[\"asyncio\"].plot.hist(bins=5)\n",
    "pyplot.xlabel(\"Time [seconds]\")\n",
    "pyplot.grid()\n",
    "pyplot.show()"
   ]
  },
  {
   "cell_type": "code",
   "execution_count": 34,
   "metadata": {},
   "outputs": [
    {
     "data": {
      "text/html": [
       "<div>\n",
       "<style scoped>\n",
       "    .dataframe tbody tr th:only-of-type {\n",
       "        vertical-align: middle;\n",
       "    }\n",
       "\n",
       "    .dataframe tbody tr th {\n",
       "        vertical-align: top;\n",
       "    }\n",
       "\n",
       "    .dataframe thead th {\n",
       "        text-align: right;\n",
       "    }\n",
       "</style>\n",
       "<table border=\"1\" class=\"dataframe\">\n",
       "  <thead>\n",
       "    <tr style=\"text-align: right;\">\n",
       "      <th></th>\n",
       "      <th>asyncio</th>\n",
       "    </tr>\n",
       "  </thead>\n",
       "  <tbody>\n",
       "    <tr>\n",
       "      <th>count</th>\n",
       "      <td>50.000000</td>\n",
       "    </tr>\n",
       "    <tr>\n",
       "      <th>mean</th>\n",
       "      <td>2.275800</td>\n",
       "    </tr>\n",
       "    <tr>\n",
       "      <th>std</th>\n",
       "      <td>1.857793</td>\n",
       "    </tr>\n",
       "    <tr>\n",
       "      <th>min</th>\n",
       "      <td>0.480000</td>\n",
       "    </tr>\n",
       "    <tr>\n",
       "      <th>25%</th>\n",
       "      <td>0.860000</td>\n",
       "    </tr>\n",
       "    <tr>\n",
       "      <th>50%</th>\n",
       "      <td>1.810000</td>\n",
       "    </tr>\n",
       "    <tr>\n",
       "      <th>75%</th>\n",
       "      <td>3.020000</td>\n",
       "    </tr>\n",
       "    <tr>\n",
       "      <th>max</th>\n",
       "      <td>8.860000</td>\n",
       "    </tr>\n",
       "  </tbody>\n",
       "</table>\n",
       "</div>"
      ],
      "text/plain": [
       "         asyncio\n",
       "count  50.000000\n",
       "mean    2.275800\n",
       "std     1.857793\n",
       "min     0.480000\n",
       "25%     0.860000\n",
       "50%     1.810000\n",
       "75%     3.020000\n",
       "max     8.860000"
      ]
     },
     "execution_count": 34,
     "metadata": {},
     "output_type": "execute_result"
    }
   ],
   "source": [
    "async_times.describe()"
   ]
  },
  {
   "cell_type": "code",
   "execution_count": 35,
   "metadata": {},
   "outputs": [
    {
     "data": {
      "image/png": "[encoded data removed]",
      "text/plain": [
       "<Figure size 432x288 with 1 Axes>"
      ]
     },
     "metadata": {
      "needs_background": "light"
     },
     "output_type": "display_data"
    }
   ],
   "source": [
    "async_times.plot.box()\n",
    "pyplot.grid()\n",
    "pyplot.ylabel(\"Time [seconds]\")\n",
    "pyplot.show()"
   ]
  },
  {
   "cell_type": "code",
   "execution_count": null,
   "metadata": {},
   "outputs": [],
   "source": []
  }
 ],
 "metadata": {
  "kernelspec": {
   "display_name": "Python 3",
   "language": "python",
   "name": "python3"
  },
  "language_info": {
   "codemirror_mode": {
    "name": "ipython",
    "version": 3
   },
   "file_extension": ".py",
   "mimetype": "text/x-python",
   "name": "python",
   "nbconvert_exporter": "python",
   "pygments_lexer": "ipython3",
   "version": "3.8.3"
  }
 },
 "nbformat": 4,
 "nbformat_minor": 4
}
